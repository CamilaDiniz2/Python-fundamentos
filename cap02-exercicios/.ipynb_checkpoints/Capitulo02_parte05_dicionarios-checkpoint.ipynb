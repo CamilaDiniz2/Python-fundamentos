{
 "cells": [
  {
   "cell_type": "markdown",
   "metadata": {},
   "source": [
    "# Data Science Academy - Python Fundamentos - Capítulo 2 - Dicionários</font>\n",
    "\n",
    "###  <font color = 'black' > Exemplos baseados na aula 05 (Dicionários) do capítulo 02 do curso Python Fundamentos para Análise de Dados </font>\n",
    "\n",
    "### Curso completo: https://www.datascienceacademy.com.br/start\n",
    "\n",
    "### Download das aulas originais: http://github.com/dsacademybr"
   ]
  },
  {
   "cell_type": "markdown",
   "metadata": {},
   "source": [
    "## Dicionários"
   ]
  },
  {
   "cell_type": "code",
   "execution_count": 1,
   "metadata": {},
   "outputs": [],
   "source": [
    "# Primeiramente vamos criar uma lista\n",
    "paises_list = ['Brasil', 'Brasilia', 'Argentina', 'Buenos Aires', 'Uruguai', 'Montevideo', 'Chile', 'Santiago']"
   ]
  },
  {
   "cell_type": "code",
   "execution_count": 2,
   "metadata": {},
   "outputs": [
    {
     "data": {
      "text/plain": [
       "['Brasil',\n",
       " 'Brasilia',\n",
       " 'Argentina',\n",
       " 'Buenos Aires',\n",
       " 'Uruguai',\n",
       " 'Montevideo',\n",
       " 'Chile',\n",
       " 'Santiago']"
      ]
     },
     "execution_count": 2,
     "metadata": {},
     "output_type": "execute_result"
    }
   ],
   "source": [
    "# Imprimindo a lista\n",
    "paises_list"
   ]
  },
  {
   "cell_type": "code",
   "execution_count": 3,
   "metadata": {},
   "outputs": [],
   "source": [
    "# Agora criaremos um dicionário com os mesmos itens\n",
    "paises_dict = {'Brasil': 'Brasilia', 'Argentina': 'Buenos Aires', 'Uruguai': 'Montevideo', 'Chile': 'Santiago'}"
   ]
  },
  {
   "cell_type": "code",
   "execution_count": 4,
   "metadata": {},
   "outputs": [
    {
     "data": {
      "text/plain": [
       "{'Brasil': 'Brasilia',\n",
       " 'Argentina': 'Buenos Aires',\n",
       " 'Uruguai': 'Montevideo',\n",
       " 'Chile': 'Santiago'}"
      ]
     },
     "execution_count": 4,
     "metadata": {},
     "output_type": "execute_result"
    }
   ],
   "source": [
    "# Imprime o dicionario na tela\n",
    "paises_dict"
   ]
  },
  {
   "cell_type": "markdown",
   "metadata": {},
   "source": [
    "#### As lista são delimitadas por  colchetes []\n",
    "#### Os dicionários são delimitadpos por chaves {}\n",
    "#### Nos dicionários temos chaves (keys) relacionadas a valores"
   ]
  },
  {
   "cell_type": "code",
   "execution_count": 5,
   "metadata": {},
   "outputs": [
    {
     "data": {
      "text/plain": [
       "'Buenos Aires'"
      ]
     },
     "execution_count": 5,
     "metadata": {},
     "output_type": "execute_result"
    }
   ],
   "source": [
    "# Obtendo valores a partir das chaves\n",
    "paises_dict['Argentina']"
   ]
  },
  {
   "cell_type": "code",
   "execution_count": 6,
   "metadata": {},
   "outputs": [],
   "source": [
    "# Podemos também alterar valores das chaves\n",
    "paises_dict['Brasil'] = 'Rio de Janeiro'"
   ]
  },
  {
   "cell_type": "code",
   "execution_count": 7,
   "metadata": {},
   "outputs": [
    {
     "data": {
      "text/plain": [
       "{'Brasil': 'Rio de Janeiro',\n",
       " 'Argentina': 'Buenos Aires',\n",
       " 'Uruguai': 'Montevideo',\n",
       " 'Chile': 'Santiago'}"
      ]
     },
     "execution_count": 7,
     "metadata": {},
     "output_type": "execute_result"
    }
   ],
   "source": [
    "paises_dict"
   ]
  },
  {
   "cell_type": "code",
   "execution_count": 8,
   "metadata": {},
   "outputs": [],
   "source": [
    "# Podemos também adicionar valores no dicionário\n",
    "paises_dict['Paraguai'] = 'Assunção'"
   ]
  },
  {
   "cell_type": "code",
   "execution_count": 9,
   "metadata": {},
   "outputs": [
    {
     "data": {
      "text/plain": [
       "{'Brasil': 'Rio de Janeiro',\n",
       " 'Argentina': 'Buenos Aires',\n",
       " 'Uruguai': 'Montevideo',\n",
       " 'Chile': 'Santiago',\n",
       " 'Paraguai': 'Assunção'}"
      ]
     },
     "execution_count": 9,
     "metadata": {},
     "output_type": "execute_result"
    }
   ],
   "source": [
    "paises_dict"
   ]
  },
  {
   "cell_type": "code",
   "execution_count": 10,
   "metadata": {},
   "outputs": [],
   "source": [
    "# Também pode-se limpar todos os valores do dicionário\n",
    "paises_dict.clear()"
   ]
  },
  {
   "cell_type": "code",
   "execution_count": 12,
   "metadata": {},
   "outputs": [
    {
     "data": {
      "text/plain": [
       "{}"
      ]
     },
     "execution_count": 12,
     "metadata": {},
     "output_type": "execute_result"
    }
   ],
   "source": [
    "# Imprimindo o diciontário agora vemos que está vazia\n",
    "paises_dict"
   ]
  },
  {
   "cell_type": "code",
   "execution_count": 13,
   "metadata": {},
   "outputs": [],
   "source": [
    "# Por fim, podemos deletar o dicionário\n",
    "del paises_dict"
   ]
  },
  {
   "cell_type": "code",
   "execution_count": 14,
   "metadata": {},
   "outputs": [
    {
     "ename": "NameError",
     "evalue": "name 'paises_dict' is not defined",
     "output_type": "error",
     "traceback": [
      "\u001b[1;31m---------------------------------------------------------------------------\u001b[0m",
      "\u001b[1;31mNameError\u001b[0m                                 Traceback (most recent call last)",
      "\u001b[1;32m<ipython-input-14-5557c68c63bf>\u001b[0m in \u001b[0;36m<module>\u001b[1;34m\u001b[0m\n\u001b[0;32m      1\u001b[0m \u001b[1;31m# Imprimir o dicionario\u001b[0m\u001b[1;33m\u001b[0m\u001b[1;33m\u001b[0m\u001b[1;33m\u001b[0m\u001b[0m\n\u001b[1;32m----> 2\u001b[1;33m \u001b[0mpaises_dict\u001b[0m\u001b[1;33m\u001b[0m\u001b[1;33m\u001b[0m\u001b[0m\n\u001b[0m",
      "\u001b[1;31mNameError\u001b[0m: name 'paises_dict' is not defined"
     ]
    }
   ],
   "source": [
    "# Imprimir o dicionario, aparece um erro, pois o mesmo foi previamente deletado\n",
    "paises_dict"
   ]
  },
  {
   "cell_type": "code",
   "execution_count": 15,
   "metadata": {},
   "outputs": [],
   "source": [
    "# Criando novamente o dicionario\n",
    "paises = {'Brasil': 'Brasilia', 'Argentina': 'Buenos Aires', 'Uruguai': 'Montevideo', 'Chile': 'Santiago'}"
   ]
  },
  {
   "cell_type": "code",
   "execution_count": 16,
   "metadata": {},
   "outputs": [
    {
     "data": {
      "text/plain": [
       "{'Brasil': 'Brasilia',\n",
       " 'Argentina': 'Buenos Aires',\n",
       " 'Uruguai': 'Montevideo',\n",
       " 'Chile': 'Santiago'}"
      ]
     },
     "execution_count": 16,
     "metadata": {},
     "output_type": "execute_result"
    }
   ],
   "source": [
    "# Imprimindo\n",
    "paises"
   ]
  },
  {
   "cell_type": "code",
   "execution_count": 17,
   "metadata": {},
   "outputs": [
    {
     "data": {
      "text/plain": [
       "4"
      ]
     },
     "execution_count": 17,
     "metadata": {},
     "output_type": "execute_result"
    }
   ],
   "source": [
    "# Para obtermos o comprimento do dicionario usamos a funcao len()\n",
    "len(paises)\n",
    "\n",
    "# O resultado obtido será 4 porque há  4 chaves (keys)"
   ]
  },
  {
   "cell_type": "code",
   "execution_count": 18,
   "metadata": {},
   "outputs": [
    {
     "data": {
      "text/plain": [
       "dict_keys(['Brasil', 'Argentina', 'Uruguai', 'Chile'])"
      ]
     },
     "execution_count": 18,
     "metadata": {},
     "output_type": "execute_result"
    }
   ],
   "source": [
    "# Usando a função .keys() conseguimos obter as chaves\n",
    "paises.keys()"
   ]
  },
  {
   "cell_type": "code",
   "execution_count": 19,
   "metadata": {},
   "outputs": [
    {
     "data": {
      "text/plain": [
       "dict_values(['Brasilia', 'Buenos Aires', 'Montevideo', 'Santiago'])"
      ]
     },
     "execution_count": 19,
     "metadata": {},
     "output_type": "execute_result"
    }
   ],
   "source": [
    "# Usando a função .values() obtemos os valores associados as chaves\n",
    "paises.values()"
   ]
  },
  {
   "cell_type": "code",
   "execution_count": 22,
   "metadata": {},
   "outputs": [
    {
     "data": {
      "text/plain": [
       "dict_items([('Brasil', 'Brasilia'), ('Argentina', 'Buenos Aires'), ('Uruguai', 'Montevideo'), ('Chile', 'Santiago')])"
      ]
     },
     "execution_count": 22,
     "metadata": {},
     "output_type": "execute_result"
    }
   ],
   "source": [
    "# Usando a função .items(), obtemos as chaves associadas aos seus respectivos valores\n",
    "paises.items()"
   ]
  },
  {
   "cell_type": "code",
   "execution_count": 23,
   "metadata": {},
   "outputs": [],
   "source": [
    "# Usando dicionários somos capazes de concatenar\n",
    "# Vamos criar um segundo dicionário com paises e suas captais\n",
    "paises2 = {'Peru': 'Lima', 'Equador': 'Quito', 'Colombia': 'Bogota'}"
   ]
  },
  {
   "cell_type": "code",
   "execution_count": 24,
   "metadata": {},
   "outputs": [
    {
     "data": {
      "text/plain": [
       "{'Peru': 'Lima', 'Equador': 'Quito', 'Colombia': 'Bogota'}"
      ]
     },
     "execution_count": 24,
     "metadata": {},
     "output_type": "execute_result"
    }
   ],
   "source": [
    "# Imprimimos esse novo dicionario\n",
    "paises2"
   ]
  },
  {
   "cell_type": "code",
   "execution_count": 27,
   "metadata": {},
   "outputs": [],
   "source": [
    "# Agora vamos juntar o dicionario paises com o paises2 no dicionario paises\n",
    "paises.update(paises2)"
   ]
  },
  {
   "cell_type": "code",
   "execution_count": 28,
   "metadata": {},
   "outputs": [
    {
     "data": {
      "text/plain": [
       "{'Brasil': 'Brasilia',\n",
       " 'Argentina': 'Buenos Aires',\n",
       " 'Uruguai': 'Montevideo',\n",
       " 'Chile': 'Santiago',\n",
       " 'Peru': 'Lima',\n",
       " 'Equador': 'Quito',\n",
       " 'Colombia': 'Bogota'}"
      ]
     },
     "execution_count": 28,
     "metadata": {},
     "output_type": "execute_result"
    }
   ],
   "source": [
    "# Imprimindo\n",
    "paises"
   ]
  },
  {
   "cell_type": "code",
   "execution_count": 29,
   "metadata": {},
   "outputs": [],
   "source": [
    "# Agora vamos criar um dicionário em branco\n",
    "dict1 = {}"
   ]
  },
  {
   "cell_type": "code",
   "execution_count": 30,
   "metadata": {},
   "outputs": [
    {
     "data": {
      "text/plain": [
       "{}"
      ]
     },
     "execution_count": 30,
     "metadata": {},
     "output_type": "execute_result"
    }
   ],
   "source": [
    "# Vamos imprimi-lo na tela\n",
    "dict1"
   ]
  },
  {
   "cell_type": "code",
   "execution_count": 33,
   "metadata": {},
   "outputs": [],
   "source": [
    "# Vamos começar a preencher esse dicionario criado\n",
    "dict1['chave_1'] = 'one'\n",
    "dict1['chave_2'] = 'two'\n",
    "dict1['chave_3'] = 'three'"
   ]
  },
  {
   "cell_type": "code",
   "execution_count": 34,
   "metadata": {},
   "outputs": [
    {
     "data": {
      "text/plain": [
       "{'chave_1': 'one', 'chave_2': 'two', 'chave_3': 'three'}"
      ]
     },
     "execution_count": 34,
     "metadata": {},
     "output_type": "execute_result"
    }
   ],
   "source": [
    "# Vamos imprimir o dicionario na tela\n",
    "dict1"
   ]
  },
  {
   "cell_type": "code",
   "execution_count": 35,
   "metadata": {},
   "outputs": [],
   "source": [
    " # Podemos ter um dicionario com listas\n",
    "dict2 = {'key1': [1,2,3], 'key2': [4,5,6], 'key3': [7,8,9]}"
   ]
  },
  {
   "cell_type": "code",
   "execution_count": 36,
   "metadata": {},
   "outputs": [
    {
     "data": {
      "text/plain": [
       "{'key1': [1, 2, 3], 'key2': [4, 5, 6], 'key3': [7, 8, 9]}"
      ]
     },
     "execution_count": 36,
     "metadata": {},
     "output_type": "execute_result"
    }
   ],
   "source": [
    "# Vamos imprimir esse dicionario\n",
    "dict2"
   ]
  },
  {
   "cell_type": "code",
   "execution_count": 37,
   "metadata": {},
   "outputs": [
    {
     "data": {
      "text/plain": [
       "[7, 8, 9]"
      ]
     },
     "execution_count": 37,
     "metadata": {},
     "output_type": "execute_result"
    }
   ],
   "source": [
    "# Vamos descobrir os valores associados a key3\n",
    "dict2['key3']"
   ]
  },
  {
   "cell_type": "code",
   "execution_count": 38,
   "metadata": {},
   "outputs": [
    {
     "data": {
      "text/plain": [
       "8"
      ]
     },
     "execution_count": 38,
     "metadata": {},
     "output_type": "execute_result"
    }
   ],
   "source": [
    "# Podemos agora acessar um item espeifico dentro da lista\n",
    "dict2['key3'][1]"
   ]
  },
  {
   "cell_type": "markdown",
   "metadata": {},
   "source": [
    "# FIM"
   ]
  }
 ],
 "metadata": {
  "kernelspec": {
   "display_name": "Python 3",
   "language": "python",
   "name": "python3"
  },
  "language_info": {
   "codemirror_mode": {
    "name": "ipython",
    "version": 3
   },
   "file_extension": ".py",
   "mimetype": "text/x-python",
   "name": "python",
   "nbconvert_exporter": "python",
   "pygments_lexer": "ipython3",
   "version": "3.7.6"
  }
 },
 "nbformat": 4,
 "nbformat_minor": 4
}
